{
 "cells": [
  {
   "cell_type": "code",
   "execution_count": 1,
   "metadata": {},
   "outputs": [],
   "source": [
    "# importamos paquetes necesarios\n",
    "import yfinance as yf\n",
    "import pandas as pd\n",
    "from statsmodels.tsa.arima_model import ARIMA\n",
    "import statsmodels.api as sm\n",
    "import warnings\n",
    "warnings.filterwarnings('ignore')"
   ]
  },
  {
   "cell_type": "markdown",
   "metadata": {},
   "source": [
    "# Taller 4\n",
    "Por: Paola Andrea Fernández \n",
    "\n",
    "Realice un modelo con dummies estacionales y un SARIMA que tenga en cuenta posibles efectos día de la semana, y compare los resultados con los modelos estimados para el taller 3."
   ]
  },
  {
   "cell_type": "code",
   "execution_count": 2,
   "metadata": {},
   "outputs": [
    {
     "data": {
      "text/plain": [
       "<AxesSubplot:title={'center':'Apple Inc'}, xlabel='Date'>"
      ]
     },
     "execution_count": 2,
     "metadata": {},
     "output_type": "execute_result"
    },
    {
     "data": {
      "image/png": "[encoded data removed]",
      "text/plain": [
       "<Figure size 432x288 with 1 Axes>"
      ]
     },
     "metadata": {
      "needs_background": "light"
     },
     "output_type": "display_data"
    }
   ],
   "source": [
    "stock = yf.Ticker(\"AAPL\")\n",
    "prices = stock.history(start=\"2022-01-01\",  end=\"2022-07-27\")[['Close']]\n",
    "prices.plot(title = 'Apple Inc')"
   ]
  },
  {
   "cell_type": "markdown",
   "metadata": {},
   "source": [
    "### Modelo con dummies estacionales\n",
    "\n",
    "Realizamos un modelo arima con dummies estacionales"
   ]
  },
  {
   "cell_type": "code",
   "execution_count": 3,
   "metadata": {},
   "outputs": [
    {
     "data": {
      "text/html": [
       "<div>\n",
       "<style scoped>\n",
       "    .dataframe tbody tr th:only-of-type {\n",
       "        vertical-align: middle;\n",
       "    }\n",
       "\n",
       "    .dataframe tbody tr th {\n",
       "        vertical-align: top;\n",
       "    }\n",
       "\n",
       "    .dataframe thead th {\n",
       "        text-align: right;\n",
       "    }\n",
       "</style>\n",
       "<table border=\"1\" class=\"dataframe\">\n",
       "  <thead>\n",
       "    <tr style=\"text-align: right;\">\n",
       "      <th></th>\n",
       "      <th>Close</th>\n",
       "      <th>Day Name</th>\n",
       "      <th>IsMonday</th>\n",
       "      <th>IsTuesday</th>\n",
       "      <th>IsWednesday</th>\n",
       "      <th>IsThursday</th>\n",
       "      <th>IsFriday</th>\n",
       "    </tr>\n",
       "    <tr>\n",
       "      <th>Date</th>\n",
       "      <th></th>\n",
       "      <th></th>\n",
       "      <th></th>\n",
       "      <th></th>\n",
       "      <th></th>\n",
       "      <th></th>\n",
       "      <th></th>\n",
       "    </tr>\n",
       "  </thead>\n",
       "  <tbody>\n",
       "    <tr>\n",
       "      <th>2022-01-03</th>\n",
       "      <td>181.259933</td>\n",
       "      <td>Monday</td>\n",
       "      <td>1</td>\n",
       "      <td>0</td>\n",
       "      <td>0</td>\n",
       "      <td>0</td>\n",
       "      <td>0</td>\n",
       "    </tr>\n",
       "    <tr>\n",
       "      <th>2022-01-04</th>\n",
       "      <td>178.959442</td>\n",
       "      <td>Tuesday</td>\n",
       "      <td>0</td>\n",
       "      <td>1</td>\n",
       "      <td>0</td>\n",
       "      <td>0</td>\n",
       "      <td>0</td>\n",
       "    </tr>\n",
       "    <tr>\n",
       "      <th>2022-01-05</th>\n",
       "      <td>174.199158</td>\n",
       "      <td>Wednesday</td>\n",
       "      <td>0</td>\n",
       "      <td>0</td>\n",
       "      <td>1</td>\n",
       "      <td>0</td>\n",
       "      <td>0</td>\n",
       "    </tr>\n",
       "    <tr>\n",
       "      <th>2022-01-06</th>\n",
       "      <td>171.291183</td>\n",
       "      <td>Thursday</td>\n",
       "      <td>0</td>\n",
       "      <td>0</td>\n",
       "      <td>0</td>\n",
       "      <td>1</td>\n",
       "      <td>0</td>\n",
       "    </tr>\n",
       "    <tr>\n",
       "      <th>2022-01-07</th>\n",
       "      <td>171.460495</td>\n",
       "      <td>Friday</td>\n",
       "      <td>0</td>\n",
       "      <td>0</td>\n",
       "      <td>0</td>\n",
       "      <td>0</td>\n",
       "      <td>1</td>\n",
       "    </tr>\n",
       "    <tr>\n",
       "      <th>...</th>\n",
       "      <td>...</td>\n",
       "      <td>...</td>\n",
       "      <td>...</td>\n",
       "      <td>...</td>\n",
       "      <td>...</td>\n",
       "      <td>...</td>\n",
       "      <td>...</td>\n",
       "    </tr>\n",
       "    <tr>\n",
       "      <th>2022-07-20</th>\n",
       "      <td>152.827713</td>\n",
       "      <td>Wednesday</td>\n",
       "      <td>0</td>\n",
       "      <td>0</td>\n",
       "      <td>1</td>\n",
       "      <td>0</td>\n",
       "      <td>0</td>\n",
       "    </tr>\n",
       "    <tr>\n",
       "      <th>2022-07-21</th>\n",
       "      <td>155.134521</td>\n",
       "      <td>Thursday</td>\n",
       "      <td>0</td>\n",
       "      <td>0</td>\n",
       "      <td>0</td>\n",
       "      <td>1</td>\n",
       "      <td>0</td>\n",
       "    </tr>\n",
       "    <tr>\n",
       "      <th>2022-07-22</th>\n",
       "      <td>153.876251</td>\n",
       "      <td>Friday</td>\n",
       "      <td>0</td>\n",
       "      <td>0</td>\n",
       "      <td>0</td>\n",
       "      <td>0</td>\n",
       "      <td>1</td>\n",
       "    </tr>\n",
       "    <tr>\n",
       "      <th>2022-07-25</th>\n",
       "      <td>152.737839</td>\n",
       "      <td>Monday</td>\n",
       "      <td>1</td>\n",
       "      <td>0</td>\n",
       "      <td>0</td>\n",
       "      <td>0</td>\n",
       "      <td>0</td>\n",
       "    </tr>\n",
       "    <tr>\n",
       "      <th>2022-07-26</th>\n",
       "      <td>151.389725</td>\n",
       "      <td>Tuesday</td>\n",
       "      <td>0</td>\n",
       "      <td>1</td>\n",
       "      <td>0</td>\n",
       "      <td>0</td>\n",
       "      <td>0</td>\n",
       "    </tr>\n",
       "  </tbody>\n",
       "</table>\n",
       "<p>141 rows × 7 columns</p>\n",
       "</div>"
      ],
      "text/plain": [
       "                 Close   Day Name  IsMonday  IsTuesday  IsWednesday  \\\n",
       "Date                                                                  \n",
       "2022-01-03  181.259933     Monday         1          0            0   \n",
       "2022-01-04  178.959442    Tuesday         0          1            0   \n",
       "2022-01-05  174.199158  Wednesday         0          0            1   \n",
       "2022-01-06  171.291183   Thursday         0          0            0   \n",
       "2022-01-07  171.460495     Friday         0          0            0   \n",
       "...                ...        ...       ...        ...          ...   \n",
       "2022-07-20  152.827713  Wednesday         0          0            1   \n",
       "2022-07-21  155.134521   Thursday         0          0            0   \n",
       "2022-07-22  153.876251     Friday         0          0            0   \n",
       "2022-07-25  152.737839     Monday         1          0            0   \n",
       "2022-07-26  151.389725    Tuesday         0          1            0   \n",
       "\n",
       "            IsThursday  IsFriday  \n",
       "Date                              \n",
       "2022-01-03           0         0  \n",
       "2022-01-04           0         0  \n",
       "2022-01-05           0         0  \n",
       "2022-01-06           1         0  \n",
       "2022-01-07           0         1  \n",
       "...                ...       ...  \n",
       "2022-07-20           0         0  \n",
       "2022-07-21           1         0  \n",
       "2022-07-22           0         1  \n",
       "2022-07-25           0         0  \n",
       "2022-07-26           0         0  \n",
       "\n",
       "[141 rows x 7 columns]"
      ]
     },
     "execution_count": 3,
     "metadata": {},
     "output_type": "execute_result"
    }
   ],
   "source": [
    "# creamos las dummies con los dias de la semana\n",
    "prices['Day Name'] = [date.day_name() for date in prices.index]\n",
    "prices['IsMonday'] = (prices['Day Name'] == 'Monday')*1\n",
    "prices['IsTuesday'] = (prices['Day Name'] == 'Tuesday')*1\n",
    "prices['IsWednesday'] = (prices['Day Name'] == 'Wednesday')*1\n",
    "prices['IsThursday'] = (prices['Day Name'] == 'Thursday')*1\n",
    "prices['IsFriday'] = (prices['Day Name'] == 'Friday')*1\n",
    "prices"
   ]
  },
  {
   "cell_type": "code",
   "execution_count": 4,
   "metadata": {},
   "outputs": [
    {
     "name": "stdout",
     "output_type": "stream",
     "text": [
      "                             ARIMA Model Results                              \n",
      "==============================================================================\n",
      "Dep. Variable:                D.Close   No. Observations:                  140\n",
      "Model:                 ARIMA(1, 1, 1)   Log Likelihood                -365.488\n",
      "Method:                       css-mle   S.D. of innovations              3.271\n",
      "Date:                Wed, 10 Aug 2022   AIC                            746.976\n",
      "Time:                        13:42:04   BIC                            770.509\n",
      "Sample:                             1   HQIC                           756.540\n",
      "                                                                              \n",
      "=================================================================================\n",
      "                    coef    std err          z      P>|z|      [0.025      0.975]\n",
      "---------------------------------------------------------------------------------\n",
      "const            -0.5931      0.628     -0.944      0.345      -1.825       0.638\n",
      "IsTuesday         1.0950      0.926      1.183      0.237      -0.719       2.909\n",
      "IsWednesday       0.5378      0.933      0.577      0.564      -1.290       2.365\n",
      "IsThursday       -0.4787      0.933     -0.513      0.608      -2.307       1.349\n",
      "IsFriday          0.5754      0.940      0.612      0.540      -1.267       2.417\n",
      "ar.L1.D.Close     0.9288      0.036     25.820      0.000       0.858       0.999\n",
      "ma.L1.D.Close    -0.9999      0.018    -54.153      0.000      -1.036      -0.964\n",
      "                                    Roots                                    \n",
      "=============================================================================\n",
      "                  Real          Imaginary           Modulus         Frequency\n",
      "-----------------------------------------------------------------------------\n",
      "AR.1            1.0767           +0.0000j            1.0767            0.0000\n",
      "MA.1            1.0001           +0.0000j            1.0001            0.0000\n",
      "-----------------------------------------------------------------------------\n"
     ]
    }
   ],
   "source": [
    "model_w_dummies = ARIMA(endog = prices['Close'], exog= prices.iloc[:,-4:], order=(1,1,1)).fit(disp=0)\n",
    "print(model_w_dummies.summary())"
   ]
  },
  {
   "cell_type": "markdown",
   "metadata": {},
   "source": [
    "Observamos que los coeficientes de las variables dummy no son significativas, esto prodría indicar la ausencia de efectos estacionales."
   ]
  },
  {
   "cell_type": "markdown",
   "metadata": {},
   "source": [
    "### Modelo SARIMA"
   ]
  },
  {
   "cell_type": "code",
   "execution_count": 23,
   "metadata": {},
   "outputs": [
    {
     "name": "stdout",
     "output_type": "stream",
     "text": [
      "                                     SARIMAX Results                                     \n",
      "=========================================================================================\n",
      "Dep. Variable:                             Close   No. Observations:                  141\n",
      "Model:             SARIMAX(1, 1, 1)x(0, 1, 1, 5)   Log Likelihood                -364.385\n",
      "Date:                           Wed, 10 Aug 2022   AIC                            736.769\n",
      "Time:                                   13:47:08   BIC                            748.390\n",
      "Sample:                                        0   HQIC                           741.492\n",
      "                                           - 141                                         \n",
      "Covariance Type:                             opg                                         \n",
      "==============================================================================\n",
      "                 coef    std err          z      P>|z|      [0.025      0.975]\n",
      "------------------------------------------------------------------------------\n",
      "ar.L1         -0.8865      0.080    -11.089      0.000      -1.043      -0.730\n",
      "ma.L1          0.9670      0.054     17.944      0.000       0.861       1.073\n",
      "ma.S.L5       -0.9534      0.109     -8.710      0.000      -1.168      -0.739\n",
      "sigma2        11.8700      1.657      7.165      0.000       8.623      15.117\n",
      "===================================================================================\n",
      "Ljung-Box (L1) (Q):                   0.28   Jarque-Bera (JB):                 7.99\n",
      "Prob(Q):                              0.59   Prob(JB):                         0.02\n",
      "Heteroskedasticity (H):               0.96   Skew:                            -0.36\n",
      "Prob(H) (two-sided):                  0.90   Kurtosis:                         3.95\n",
      "===================================================================================\n",
      "\n",
      "Warnings:\n",
      "[1] Covariance matrix calculated using the outer product of gradients (complex-step).\n"
     ]
    }
   ],
   "source": [
    "model_sarima = sm.tsa.statespace.SARIMAX(endog=prices['Close'],order = (1,1,1),seasonal_order=(0,1,1,5)).fit(disp= 0)\n",
    "print(model_sarima.summary())"
   ]
  },
  {
   "cell_type": "markdown",
   "metadata": {},
   "source": [
    "### Modelo ARIMA"
   ]
  },
  {
   "cell_type": "code",
   "execution_count": 13,
   "metadata": {},
   "outputs": [
    {
     "name": "stdout",
     "output_type": "stream",
     "text": [
      "                             ARIMA Model Results                              \n",
      "==============================================================================\n",
      "Dep. Variable:                D.Close   No. Observations:                  140\n",
      "Model:                 ARIMA(1, 1, 1)   Log Likelihood                -367.292\n",
      "Method:                       css-mle   S.D. of innovations              3.314\n",
      "Date:                Wed, 10 Aug 2022   AIC                            742.584\n",
      "Time:                        13:43:05   BIC                            754.350\n",
      "Sample:                             1   HQIC                           747.365\n",
      "                                                                              \n",
      "=================================================================================\n",
      "                    coef    std err          z      P>|z|      [0.025      0.975]\n",
      "---------------------------------------------------------------------------------\n",
      "const            -0.2363      0.074     -3.184      0.001      -0.382      -0.091\n",
      "ar.L1.D.Close     0.9278      0.036     25.653      0.000       0.857       0.999\n",
      "ma.L1.D.Close    -1.0000      0.019    -53.823      0.000      -1.036      -0.964\n",
      "                                    Roots                                    \n",
      "=============================================================================\n",
      "                  Real          Imaginary           Modulus         Frequency\n",
      "-----------------------------------------------------------------------------\n",
      "AR.1            1.0778           +0.0000j            1.0778            0.0000\n",
      "MA.1            1.0000           +0.0000j            1.0000            0.0000\n",
      "-----------------------------------------------------------------------------\n"
     ]
    }
   ],
   "source": [
    "model_1 = ARIMA(prices['Close'], order=(1,1,1)).fit(disp=0)\n",
    "print(model_1.summary())"
   ]
  },
  {
   "cell_type": "markdown",
   "metadata": {},
   "source": [
    "### Comparación de modelos\n",
    "Se calculan diferentes criterios para bondad de ajuste del modelo. Usaremos los siguientes criterios basados en ajuste muestrales:\n",
    "- AIC (Akaike information criterion)\n",
    "- BIC (Bayesian information criterion)\n",
    "- HIQC (Hannan-Quinn information criterion)"
   ]
  },
  {
   "cell_type": "code",
   "execution_count": 24,
   "metadata": {},
   "outputs": [
    {
     "data": {
      "text/html": [
       "<div>\n",
       "<style scoped>\n",
       "    .dataframe tbody tr th:only-of-type {\n",
       "        vertical-align: middle;\n",
       "    }\n",
       "\n",
       "    .dataframe tbody tr th {\n",
       "        vertical-align: top;\n",
       "    }\n",
       "\n",
       "    .dataframe thead th {\n",
       "        text-align: right;\n",
       "    }\n",
       "</style>\n",
       "<table border=\"1\" class=\"dataframe\">\n",
       "  <thead>\n",
       "    <tr style=\"text-align: right;\">\n",
       "      <th></th>\n",
       "      <th>AIC</th>\n",
       "      <th>BIC</th>\n",
       "      <th>HIQC</th>\n",
       "    </tr>\n",
       "    <tr>\n",
       "      <th>Model</th>\n",
       "      <th></th>\n",
       "      <th></th>\n",
       "      <th></th>\n",
       "    </tr>\n",
       "  </thead>\n",
       "  <tbody>\n",
       "    <tr>\n",
       "      <th>ARIMA</th>\n",
       "      <td>742.583609</td>\n",
       "      <td>754.350178</td>\n",
       "      <td>747.365191</td>\n",
       "    </tr>\n",
       "    <tr>\n",
       "      <th>ARIMA w/ seasonal dummies</th>\n",
       "      <td>746.976352</td>\n",
       "      <td>770.509491</td>\n",
       "      <td>756.539516</td>\n",
       "    </tr>\n",
       "    <tr>\n",
       "      <th>SARIMA</th>\n",
       "      <td>736.769167</td>\n",
       "      <td>748.390266</td>\n",
       "      <td>741.491655</td>\n",
       "    </tr>\n",
       "  </tbody>\n",
       "</table>\n",
       "</div>"
      ],
      "text/plain": [
       "                                  AIC         BIC        HIQC\n",
       "Model                                                        \n",
       "ARIMA                      742.583609  754.350178  747.365191\n",
       "ARIMA w/ seasonal dummies  746.976352  770.509491  756.539516\n",
       "SARIMA                     736.769167  748.390266  741.491655"
      ]
     },
     "execution_count": 24,
     "metadata": {},
     "output_type": "execute_result"
    }
   ],
   "source": [
    "pd.DataFrame({\n",
    "    'Model' : ['ARIMA', 'ARIMA w/ seasonal dummies', 'SARIMA'],\n",
    "    'AIC': [model_1.aic, model_w_dummies.aic, model_sarima.aic],\n",
    "    'BIC': [model_1.bic, model_w_dummies.bic, model_sarima.bic],\n",
    "    'HIQC': [model_1.hqic,model_w_dummies.hqic, model_sarima.hqic ]\n",
    "    }).set_index('Model')"
   ]
  },
  {
   "cell_type": "markdown",
   "metadata": {},
   "source": [
    "El mejor modelo es el SARIMA(1, 1, 1)x(0, 1, 1, 5)"
   ]
  }
 ],
 "metadata": {
  "kernelspec": {
   "display_name": "Python 3.9.7 ('base')",
   "language": "python",
   "name": "python3"
  },
  "language_info": {
   "codemirror_mode": {
    "name": "ipython",
    "version": 3
   },
   "file_extension": ".py",
   "mimetype": "text/x-python",
   "name": "python",
   "nbconvert_exporter": "python",
   "pygments_lexer": "ipython3",
   "version": "3.9.7"
  },
  "orig_nbformat": 4,
  "vscode": {
   "interpreter": {
    "hash": "34c2cbf37bc20f80bfd4d4740850d18dbbf883d36b45ce1a84777a3c8cef0d88"
   }
  }
 },
 "nbformat": 4,
 "nbformat_minor": 2
}
